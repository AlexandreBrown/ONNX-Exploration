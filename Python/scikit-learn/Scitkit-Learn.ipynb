{
 "cells": [
  {
   "cell_type": "code",
   "execution_count": 1,
   "metadata": {},
   "outputs": [],
   "source": [
    "import numpy as np\n",
    "import pandas as pd\n",
    "import matplotlib.pyplot as plt\n",
    "\n",
    "from sklearn import preprocessing\n",
    "from sklearn.preprocessing import StandardScaler\n",
    "from sklearn.tree import DecisionTreeRegressor\n",
    "from sklearn.model_selection import train_test_split\n",
    "from sklearn.metrics import mean_squared_error\n",
    "from sklearn.ensemble import RandomForestRegressor\n",
    "from sklearn.linear_model import LinearRegression\n",
    "from sklearn.svm import SVR"
   ]
  },
  {
   "cell_type": "code",
   "execution_count": 2,
   "metadata": {},
   "outputs": [],
   "source": [
    "def load_data():\n",
    "    data_set = pd.read_csv(\"../../Datasets/Jan_2020_ontime.csv\")\n",
    "\n",
    "    features_columns = [\n",
    "        \"DAY_OF_MONTH\",\n",
    "        \"DAY_OF_WEEK\",\n",
    "        \"OP_UNIQUE_CARRIER\",\n",
    "        \"OP_CARRIER_AIRLINE_ID\",\n",
    "        \"OP_CARRIER\",\n",
    "        \"TAIL_NUM\",\n",
    "        \"OP_CARRIER_FL_NUM\",\n",
    "        \"ORIGIN_AIRPORT_ID\",\n",
    "        \"ORIGIN_AIRPORT_SEQ_ID\",\n",
    "        \"ORIGIN\",\n",
    "        \"DEST_AIRPORT_ID\",\n",
    "        \"DEST_AIRPORT_SEQ_ID\",\n",
    "        \"DEST\",\n",
    "        \"DEP_TIME\",\n",
    "        \"DEP_DEL15\",\n",
    "        \"DEP_TIME_BLK\",\n",
    "        \"DISTANCE\",\n",
    "    ]\n",
    "\n",
    "    targets_columns = [\"ARR_TIME\"]\n",
    "\n",
    "    data_set.replace(\"\", float(\"NaN\"), inplace=True)\n",
    "    data_set.dropna(subset=features_columns + targets_columns, inplace=True)\n",
    "\n",
    "    x = data_set[features_columns].values\n",
    "\n",
    "    op_unique_labelEncoder = preprocessing.LabelEncoder()\n",
    "    x[:, 2] = op_unique_labelEncoder.fit_transform(x[:, 2])\n",
    "    op_carrier_labelEncoder = preprocessing.LabelEncoder()\n",
    "    x[:, 4] = op_carrier_labelEncoder.fit_transform(x[:, 4])\n",
    "    tail_num_labelEncoder = preprocessing.LabelEncoder()\n",
    "    x[:, 5] = tail_num_labelEncoder.fit_transform(x[:, 5])\n",
    "    origin_labelEncoder = preprocessing.LabelEncoder()\n",
    "    x[:, 9] = origin_labelEncoder.fit_transform(x[:, 9])\n",
    "    dest_labelEncoder = preprocessing.LabelEncoder()\n",
    "    x[:, 12] = dest_labelEncoder.fit_transform(x[:, 12])\n",
    "    dep_time_labelEncoder = preprocessing.LabelEncoder()\n",
    "    x[:, 15] = dep_time_labelEncoder.fit_transform(x[:, 15])\n",
    "\n",
    "    scaler = StandardScaler()\n",
    "    x = scaler.fit_transform(x)\n",
    "\n",
    "    y = np.ravel(data_set[targets_columns].values)\n",
    "\n",
    "    print(\"-------------------------------------\")\n",
    "    print(\"X shape : \", x.shape)\n",
    "    print(\"X samples : \", x[:5])\n",
    "    print(\"-------------------------------------\")\n",
    "    print(\"y shape : \", y.shape)\n",
    "    print(\"y samples : \", y[:5])\n",
    "    print(\"-------------------------------------\")\n",
    "\n",
    "    X_trainset, X_testset, y_trainset, y_testset = train_test_split(x, y, test_size=0.3, random_state=42)\n",
    "\n",
    "    return X_trainset, X_testset, y_trainset, y_testset"
   ]
  },
  {
   "cell_type": "code",
   "execution_count": null,
   "metadata": {},
   "outputs": [],
   "source": [
    "\n",
    "def test_decision_tree(X_trainset, X_testset, y_trainset, y_testset):\n",
    "    model = DecisionTreeRegressor(criterion=\"mse\")\n",
    "    model.fit(X_trainset, y_trainset)\n",
    "    predictions = model.predict(X_testset)\n",
    "    mse_score = mean_squared_error(y_testset, predictions)\n",
    "    r2_score = model.score(X_testset, y_testset)\n",
    "    print(\"Decision Tree score (MSE) :\", mse_score)\n",
    "    print(\"Decision Tree score (R2) :\", r2_score)\n"
   ]
  }
 ],
 "metadata": {
  "kernelspec": {
   "display_name": "Python 3",
   "language": "python",
   "name": "python3"
  },
  "language_info": {
   "codemirror_mode": {
    "name": "ipython",
    "version": 3
   },
   "file_extension": ".py",
   "mimetype": "text/x-python",
   "name": "python",
   "nbconvert_exporter": "python",
   "pygments_lexer": "ipython3",
   "version": "3.8.5"
  }
 },
 "nbformat": 4,
 "nbformat_minor": 4
}
