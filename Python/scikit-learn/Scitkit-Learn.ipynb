{
 "cells": [
  {
   "cell_type": "code",
   "execution_count": 2,
   "metadata": {},
   "outputs": [
    {
     "name": "stdout",
     "output_type": "stream",
     "text": [
      "Collecting skl2onnx\n",
      "  Downloading skl2onnx-1.8.0-py2.py3-none-any.whl (230 kB)\n",
      "\u001b[K     |████████████████████████████████| 230 kB 2.3 MB/s eta 0:00:01\n",
      "\u001b[?25hRequirement already satisfied: six in /usr/lib/python3/dist-packages (from skl2onnx) (1.14.0)\n",
      "Requirement already satisfied: scikit-learn>=0.19 in /home/brownthedev/.local/lib/python3.8/site-packages (from skl2onnx) (0.24.2)\n",
      "Requirement already satisfied: protobuf in /usr/lib/python3/dist-packages (from skl2onnx) (3.6.1)\n",
      "Collecting onnxconverter-common<1.9,>=1.6.1\n",
      "  Downloading onnxconverter_common-1.8.1-py2.py3-none-any.whl (77 kB)\n",
      "\u001b[K     |████████████████████████████████| 77 kB 2.6 MB/s eta 0:00:011\n",
      "\u001b[?25hRequirement already satisfied: numpy>=1.15 in /home/brownthedev/.local/lib/python3.8/site-packages (from skl2onnx) (1.20.3)\n",
      "Requirement already satisfied: scipy>=1.0 in /home/brownthedev/.local/lib/python3.8/site-packages (from skl2onnx) (1.6.3)\n",
      "Collecting onnx>=1.2.1\n",
      "  Downloading onnx-1.9.0-cp38-cp38-manylinux2010_x86_64.whl (12.2 MB)\n",
      "\u001b[K     |████████████████████████████████| 12.2 MB 5.5 MB/s eta 0:00:01\n",
      "\u001b[?25hRequirement already satisfied: joblib>=0.11 in /home/brownthedev/.local/lib/python3.8/site-packages (from scikit-learn>=0.19->skl2onnx) (1.0.1)\n",
      "Requirement already satisfied: threadpoolctl>=2.0.0 in /home/brownthedev/.local/lib/python3.8/site-packages (from scikit-learn>=0.19->skl2onnx) (2.1.0)\n",
      "Collecting typing-extensions>=3.6.2.1\n",
      "  Using cached typing_extensions-3.10.0.0-py3-none-any.whl (26 kB)\n",
      "Installing collected packages: typing-extensions, onnx, onnxconverter-common, skl2onnx\n",
      "Successfully installed onnx-1.9.0 onnxconverter-common-1.8.1 skl2onnx-1.8.0 typing-extensions-3.10.0.0\n"
     ]
    }
   ],
   "source": [
    "!pip install skl2onnx"
   ]
  },
  {
   "cell_type": "code",
   "execution_count": 3,
   "metadata": {},
   "outputs": [],
   "source": [
    "import numpy as np\n",
    "import pandas as pd\n",
    "import matplotlib.pyplot as plt\n",
    "\n",
    "from sklearn import preprocessing\n",
    "from sklearn.preprocessing import StandardScaler\n",
    "from sklearn.tree import DecisionTreeRegressor\n",
    "from sklearn.model_selection import train_test_split\n",
    "from sklearn.metrics import mean_squared_error\n",
    "from sklearn.ensemble import RandomForestRegressor\n",
    "from sklearn.linear_model import LinearRegression\n",
    "from skl2onnx import convert_sklearn\n",
    "from skl2onnx.common.data_types import FloatTensorType"
   ]
  },
  {
   "cell_type": "code",
   "execution_count": 5,
   "metadata": {},
   "outputs": [],
   "source": [
    "def load_data():\n",
    "    data_set = pd.read_csv(\"../../Datasets/Jan_2020_ontime.csv\")\n",
    "\n",
    "    features_columns = [\n",
    "        \"DAY_OF_MONTH\",\n",
    "        \"DAY_OF_WEEK\",\n",
    "        \"OP_UNIQUE_CARRIER\",\n",
    "        \"OP_CARRIER_AIRLINE_ID\",\n",
    "        \"OP_CARRIER\",\n",
    "        \"TAIL_NUM\",\n",
    "        \"OP_CARRIER_FL_NUM\",\n",
    "        \"ORIGIN_AIRPORT_ID\",\n",
    "        \"ORIGIN_AIRPORT_SEQ_ID\",\n",
    "        \"ORIGIN\",\n",
    "        \"DEST_AIRPORT_ID\",\n",
    "        \"DEST_AIRPORT_SEQ_ID\",\n",
    "        \"DEST\",\n",
    "        \"DEP_TIME\",\n",
    "        \"DEP_DEL15\",\n",
    "        \"DEP_TIME_BLK\",\n",
    "        \"DISTANCE\",\n",
    "    ]\n",
    "\n",
    "    targets_columns = [\"ARR_TIME\"]\n",
    "\n",
    "    data_set.replace(\"\", float(\"NaN\"), inplace=True)\n",
    "    data_set.dropna(subset=features_columns + targets_columns, inplace=True)\n",
    "\n",
    "    x = data_set[features_columns].values\n",
    "\n",
    "    op_unique_labelEncoder = preprocessing.LabelEncoder()\n",
    "    x[:, 2] = op_unique_labelEncoder.fit_transform(x[:, 2])\n",
    "    op_carrier_labelEncoder = preprocessing.LabelEncoder()\n",
    "    x[:, 4] = op_carrier_labelEncoder.fit_transform(x[:, 4])\n",
    "    tail_num_labelEncoder = preprocessing.LabelEncoder()\n",
    "    x[:, 5] = tail_num_labelEncoder.fit_transform(x[:, 5])\n",
    "    origin_labelEncoder = preprocessing.LabelEncoder()\n",
    "    x[:, 9] = origin_labelEncoder.fit_transform(x[:, 9])\n",
    "    dest_labelEncoder = preprocessing.LabelEncoder()\n",
    "    x[:, 12] = dest_labelEncoder.fit_transform(x[:, 12])\n",
    "    dep_time_labelEncoder = preprocessing.LabelEncoder()\n",
    "    x[:, 15] = dep_time_labelEncoder.fit_transform(x[:, 15])\n",
    "\n",
    "    scaler = StandardScaler()\n",
    "    x = scaler.fit_transform(x)\n",
    "\n",
    "    y = np.ravel(data_set[targets_columns].values)\n",
    "\n",
    "    print(\"-------------------------------------\")\n",
    "    print(\"X shape : \", x.shape)\n",
    "    print(\"X samples : \", x[:5])\n",
    "    print(\"-------------------------------------\")\n",
    "    print(\"y shape : \", y.shape)\n",
    "    print(\"y samples : \", y[:5])\n",
    "    print(\"-------------------------------------\")\n",
    "\n",
    "    X_trainset, X_testset, y_trainset, y_testset = train_test_split(x, y, test_size=0.3, random_state=42)\n",
    "\n",
    "    return X_trainset, X_testset, y_trainset, y_testset"
   ]
  },
  {
   "cell_type": "code",
   "execution_count": 6,
   "metadata": {},
   "outputs": [],
   "source": [
    "def test_decision_tree(X_trainset, X_testset, y_trainset, y_testset):\n",
    "    model = DecisionTreeRegressor(criterion=\"mse\")\n",
    "    model.fit(X_trainset, y_trainset)\n",
    "    predictions = model.predict(X_testset)\n",
    "    mse_score = mean_squared_error(y_testset, predictions)\n",
    "    r2_score = model.score(X_testset, y_testset)\n",
    "    print(\"Decision Tree score (MSE) :\", mse_score)\n",
    "    print(\"Decision Tree score (R2) :\", r2_score)\n",
    "    return model"
   ]
  },
  {
   "cell_type": "code",
   "execution_count": 7,
   "metadata": {},
   "outputs": [],
   "source": [
    "def test_random_forest(X_trainset, X_testset, y_trainset, y_testset):\n",
    "    model = RandomForestRegressor(criterion=\"mse\")\n",
    "    model.fit(X_trainset, y_trainset)\n",
    "    predictions = model.predict(X_testset)\n",
    "    mse_score = mean_squared_error(y_testset, predictions)\n",
    "    r2_score = model.score(X_testset, y_testset)\n",
    "    print(\"Random Forest score (MSE) :\", mse_score)\n",
    "    print(\"Random Forest score (R2) :\", r2_score)\n",
    "    return model"
   ]
  },
  {
   "cell_type": "code",
   "execution_count": 8,
   "metadata": {},
   "outputs": [],
   "source": [
    "def test_linear_regression(X_trainset, X_testset, y_trainset, y_testset):\n",
    "    model = LinearRegression()\n",
    "    model.fit(X_trainset, y_trainset)\n",
    "    predictions = model.predict(X_testset)\n",
    "    mse_score = mean_squared_error(y_testset, predictions)\n",
    "    r2_score = model.score(X_testset, y_testset)\n",
    "    print(\"Linear Regression score (MSE) :\", mse_score)\n",
    "    print(\"Linear Regression score (R2) :\", r2_score)\n",
    "    return model"
   ]
  },
  {
   "cell_type": "code",
   "execution_count": 9,
   "metadata": {},
   "outputs": [
    {
     "name": "stdout",
     "output_type": "stream",
     "text": [
      "-------------------------------------\n",
      "X shape :  (600271, 17)\n",
      "X samples :  [[-1.66633536 -0.49556467 -0.65923795  0.99130754 -0.65923795 -0.43531104\n",
      "   0.9764811   0.83576861  0.8357903   0.73722338 -0.44490263 -0.4448962\n",
      "  -0.39904773 -0.66083924 -0.39698826 -0.62718763 -1.06359251]\n",
      " [-1.66633536 -0.49556467 -0.65923795  0.99130754 -0.65923795 -1.48783174\n",
      "   0.97867688  1.78012723  1.78011772  1.75386264  0.83578902  0.83581072\n",
      "   0.73721858 -0.61255758 -0.39698826 -0.62718763 -0.36520698]\n",
      " [-1.66633536 -0.49556467 -0.65923795  0.99130754 -0.65923795 -1.65590274\n",
      "   0.98032372 -0.68045163 -0.68046527 -0.61829564  1.80761955  1.80762977\n",
      "   1.82038832  1.03907761 -0.39698826  1.02630341 -0.28704217]\n",
      " [-1.66633536 -0.49556467 -0.65923795  0.99130754 -0.65923795 -1.55301517\n",
      "   0.98087266 -1.22936008 -1.22935496 -1.25369517 -0.25538912 -0.25539549\n",
      "  -0.12294563  1.03505413 -0.39698826  1.02630341 -0.92935295]\n",
      " [-1.66633536 -0.49556467 -0.65923795  0.99130754 -0.65923795 -0.11642347\n",
      "   0.98197055  1.22531654  1.22529954  1.16082307 -0.25538912 -0.25539549\n",
      "  -0.12294563 -0.59042849 -0.39698826 -0.62718763  0.60675537]]\n",
      "-------------------------------------\n",
      "y shape :  (600271,)\n",
      "y samples :  [1117. 1216. 2120. 2004. 1330.]\n",
      "-------------------------------------\n",
      "Results: \n",
      "Decision Tree score (MSE) : 56258.941093501846\n",
      "Decision Tree score (R2) : 0.796020421030401\n",
      "Random Forest score (MSE) : 28996.45870496774\n",
      "Random Forest score (R2) : 0.894866747875355\n",
      "Linear Regression score (MSE) : 152062.81837674935\n",
      "Linear Regression score (R2) : 0.44866168707532605\n",
      "-------------------------------------\n"
     ]
    }
   ],
   "source": [
    "X_trainset, X_testset, y_trainset, y_testset = load_data()\n",
    "\n",
    "print(\"Results: \")\n",
    "test_decision_tree(X_trainset, X_testset, y_trainset, y_testset)\n",
    "rf_model = test_random_forest(X_trainset, X_testset, y_trainset, y_testset)\n",
    "test_linear_regression(X_trainset, X_testset, y_trainset, y_testset)\n",
    "print(\"-------------------------------------\")"
   ]
  },
  {
   "cell_type": "code",
   "execution_count": 13,
   "metadata": {},
   "outputs": [
    {
     "data": {
      "text/plain": [
       "17"
      ]
     },
     "execution_count": 13,
     "metadata": {},
     "output_type": "execute_result"
    }
   ],
   "source": []
  },
  {
   "cell_type": "code",
   "execution_count": null,
   "metadata": {},
   "outputs": [],
   "source": [
    "initial_type = [('float_input', FloatTensorType([None, X_trainset.shape[1]]))]\n",
    "onx = convert_sklearn(rf_model, initial_types=initial_type)\n",
    "\n",
    "with open(\"rf.onnx\", \"wb\") as f:\n",
    "    f.write(onx.SerializeToString())"
   ]
  },
  {
   "cell_type": "code",
   "execution_count": null,
   "metadata": {},
   "outputs": [],
   "source": []
  }
 ],
 "metadata": {
  "instance_type": "ml.t3.medium",
  "kernelspec": {
   "display_name": "Python 3",
   "language": "python",
   "name": "python3"
  },
  "language_info": {
   "codemirror_mode": {
    "name": "ipython",
    "version": 3
   },
   "file_extension": ".py",
   "mimetype": "text/x-python",
   "name": "python",
   "nbconvert_exporter": "python",
   "pygments_lexer": "ipython3",
   "version": "3.8.5"
  }
 },
 "nbformat": 4,
 "nbformat_minor": 4
}
